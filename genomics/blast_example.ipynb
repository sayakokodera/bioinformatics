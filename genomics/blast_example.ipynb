{
 "cells": [
  {
   "cell_type": "markdown",
   "id": "e2fab886",
   "metadata": {},
   "source": [
    "# BLAST results handling: running queries to stream and save the results"
   ]
  },
  {
   "cell_type": "code",
   "execution_count": null,
   "id": "ec8129c5",
   "metadata": {},
   "outputs": [],
   "source": [
    "from Bio.Blast import NCBIWWW, NCBIXML\n",
    "import csv\n",
    "import sys"
   ]
  },
  {
   "cell_type": "markdown",
   "id": "3957247a",
   "metadata": {},
   "source": [
    "### (1) Query"
   ]
  },
  {
   "cell_type": "code",
   "execution_count": 2,
   "id": "145f5f20",
   "metadata": {},
   "outputs": [],
   "source": [
    "target_sequence = \"\"\"ggtaagtcctctagtacaaacacccccaatattgtgatataattaaa\n",
    "attatattcatattctgttgccagaaaaaacacttttaggctatattagagccatcttctttgaagcgttgtc\"\"\""
   ]
  },
  {
   "cell_type": "code",
   "execution_count": 3,
   "id": "31005c3b",
   "metadata": {},
   "outputs": [],
   "source": [
    "result_handle = NCBIWWW.qblast(\"blastn\", \"nt\", target_sequence)"
   ]
  },
  {
   "cell_type": "markdown",
   "id": "267adec5",
   "metadata": {},
   "source": [
    "### (2) Save the query retuls as XML"
   ]
  },
  {
   "cell_type": "code",
   "execution_count": null,
   "id": "6007db6d",
   "metadata": {},
   "outputs": [
    {
     "name": "stdout",
     "output_type": "stream",
     "text": [
      "Downloaded: 71.04 KB\n",
      "Download complete.\n"
     ]
    }
   ],
   "source": [
    "# Save to file with progress\n",
    "chunk_size = 8*1024  # 8 KB\n",
    "total_bytes = 0\n",
    "\n",
    "with open(\"blast_results.xml\", \"w\") as out_handle:\n",
    "    while True:\n",
    "        data = result_handle.read(chunk_size)\n",
    "        if not data:\n",
    "            break\n",
    "        out_handle.write(data)\n",
    "        total_bytes += len(data)\n",
    "\n",
    "        # Print progress (very rough, since we don't know total size)\n",
    "        sys.stdout.write(f\"\\rDownloaded: {total_bytes / 1024:.2f} KB\")\n",
    "        sys.stdout.flush()\n",
    "\n",
    "result_handle.close()\n",
    "print(\"\\nDownload complete.\")"
   ]
  },
  {
   "cell_type": "markdown",
   "id": "b9d49aee",
   "metadata": {},
   "source": [
    "### (3) Check the query results and save only the suitable ones in a CSV file"
   ]
  },
  {
   "cell_type": "code",
   "execution_count": 14,
   "id": "37452119",
   "metadata": {},
   "outputs": [
    {
     "name": "stdout",
     "output_type": "stream",
     "text": [
      "53 significant hits written to filtered_blast_hits.csv\n"
     ]
    }
   ],
   "source": [
    "\n",
    "E_VALUE_THRESH = 1e-11\n",
    "input_file = \"blast_results.xml\"\n",
    "output_csv = \"filtered_blast_hits.csv\"\n",
    "max_length = 200\n",
    "\n",
    "with open(input_file) as result_handle, open(output_csv, mode=\"w\", newline=\"\") as csvfile:\n",
    "    fieldnames = [\n",
    "        \"query_id\",\n",
    "        \"alignment_title\",\n",
    "        \"alignment_length\",\n",
    "        \"e_value\",\n",
    "        # \"query_snippet\",\n",
    "        # \"match_snippet\",\n",
    "        # \"subject_snippet\",\n",
    "    ]\n",
    "    writer = csv.DictWriter(csvfile, fieldnames=fieldnames)\n",
    "    writer.writeheader()\n",
    "\n",
    "    count = 0\n",
    "    for record in NCBIXML.parse(result_handle):\n",
    "        # Use generator, s.t. the entire list does not have to be stored at once\n",
    "        for alignment, hsp in (\n",
    "            (aln, hsp)\n",
    "            for aln in record.alignments\n",
    "            for hsp in aln.hsps\n",
    "            if hsp.expect < E_VALUE_THRESH\n",
    "        ):\n",
    "            writer.writerow({\n",
    "                \"query_id\": record.query, # meaningful, if sequence ID or a FASTA header is provided to NCBIWWW.qblast()\n",
    "                \"alignment_title\": alignment.title,\n",
    "                \"alignment_length\": alignment.length,\n",
    "                \"e_value\": hsp.expect,\n",
    "                # \"query_snippet\": hsp.query[:max_length],\n",
    "                # \"match_snippet\": hsp.match[:max_length],\n",
    "                # \"subject_snippet\": hsp.sbjct[:max_length],\n",
    "            })\n",
    "            count += 1\n",
    "\n",
    "print(f\"{count} significant hits written to {output_csv}\")\n"
   ]
  },
  {
   "cell_type": "code",
   "execution_count": null,
   "id": "7dc2369f",
   "metadata": {},
   "outputs": [],
   "source": []
  }
 ],
 "metadata": {
  "kernelspec": {
   "display_name": "protein_ligand",
   "language": "python",
   "name": "python3"
  },
  "language_info": {
   "codemirror_mode": {
    "name": "ipython",
    "version": 3
   },
   "file_extension": ".py",
   "mimetype": "text/x-python",
   "name": "python",
   "nbconvert_exporter": "python",
   "pygments_lexer": "ipython3",
   "version": "3.13.1"
  }
 },
 "nbformat": 4,
 "nbformat_minor": 5
}
