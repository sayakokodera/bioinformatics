{
 "cells": [
  {
   "cell_type": "code",
   "execution_count": null,
   "id": "35739372",
   "metadata": {},
   "outputs": [],
   "source": [
    "from Bio.Seq import Seq\n",
    "import matplotlib.pyplot as plt\n",
    "import numpy as np\n",
    "\n",
    "from Bio import Entrez, SeqIO"
   ]
  },
  {
   "cell_type": "markdown",
   "id": "6cec9d93",
   "metadata": {},
   "source": [
    "## General info\n",
    "* this notebook is based on a [Land Dominikovic's repository](https://github.com/lanadominkovic/12-days-of-biopython?tab=readme-ov-file)\n",
    "* [her tutorial video](https://www.youtube.com/watch?v=ocA2IMe7dpA) is excellent too"
   ]
  },
  {
   "cell_type": "code",
   "execution_count": 4,
   "id": "7c831d4e",
   "metadata": {},
   "outputs": [
    {
     "name": "stdout",
     "output_type": "stream",
     "text": [
      "Sequence: ATGCGTACGTAGCTAGCTAGCTAGCTAGCTAGC\n",
      "0\n"
     ]
    }
   ],
   "source": [
    "# Get to know what Seq can do\n",
    "sequence = Seq(\"ATGCGTACGTAGCTAGCTAGCTAGCTAGCTAGC\")\n",
    "print(\"Sequence:\", sequence)\n",
    "print(sequence.count(\"CAA\")) # = Glutamine\n",
    "# Codon = three DNA/RNA nucleotides corresponding to a specific amino acid\n",
    "# (e.g.)  \"start translation\" (ATG/AUG = start), \"stop translation\" (e.g., TAA = stop)"
   ]
  },
  {
   "cell_type": "markdown",
   "id": "04b7b0d4",
   "metadata": {},
   "source": [
    "## Transcription"
   ]
  },
  {
   "cell_type": "code",
   "execution_count": 19,
   "id": "d1233bee",
   "metadata": {},
   "outputs": [
    {
     "name": "stdout",
     "output_type": "stream",
     "text": [
      "Coding DNA: ATGGUUATTGTAATGGGCCGCTGAAAGGGTGCCCGATAG\n",
      "Template DNA: CTATCGGGCACCCTTTCAGCGGCCCATTACAATAACCAT\n",
      "mRNA: AUGGUUAUUGUAAUGGGCCGCUGAAAGGGUGCCCGAUAG\n",
      "MVIVMGR*KGAR*\n",
      "MVIVMGR\n"
     ]
    }
   ],
   "source": [
    "# Conversion: DNA -> RNA (T -> U)\n",
    "coding_dna = Seq(\"ATGGUUATTGTAATGGGCCGCTGAAAGGGTGCCCGATAG\") \n",
    "template_dna = coding_dna.reverse_complement() # reverse complement\n",
    "print(\"Coding DNA:\", coding_dna)\n",
    "print(\"Template DNA:\", template_dna)\n",
    "messenger_rna = coding_dna.transcribe() # DNA -> RNA (back-transcription with .back_transcribe())\n",
    "print(\"mRNA:\", messenger_rna)\n",
    "\n",
    "# Translate (possible with both mRNA and DNA)\n",
    "print(coding_dna.translate()) # DNA -> protein; to_stop=True, then it stops at UGA/UAG\n",
    "print(messenger_rna.translate(to_stop=True)) # RNA -> protein; \n",
    "\n",
    "# AUG\tMethionine\tM\n",
    "# GGC\tGlycine\tG\n",
    "# CGC\tArginine\tR\n",
    "# UGA\tStop\t*\n",
    "# AAG\tLysine\tK\n",
    "# GGU\tGlycine\tG\n",
    "# GCC\tAlanine\tA\n",
    "# CGA\tArginine R\n",
    "# UAG   Stop *"
   ]
  },
  {
   "cell_type": "markdown",
   "id": "f28b98bc",
   "metadata": {},
   "source": [
    "## Access to NCBI database"
   ]
  },
  {
   "cell_type": "code",
   "execution_count": null,
   "id": "6ad0eaf0",
   "metadata": {},
   "outputs": [
    {
     "name": "stdout",
     "output_type": "stream",
     "text": [
      "dict_keys(['DbList'])\n",
      "['pubmed', 'protein', 'nuccore', 'ipg', 'nucleotide', 'structure', 'genome', 'annotinfo', 'assembly', 'bioproject', 'biosample', 'blastdbinfo', 'books', 'cdd', 'clinvar', 'gap', 'gapplus', 'grasp', 'dbvar', 'gene', 'gds', 'geoprofiles', 'medgen', 'mesh', 'nlmcatalog', 'omim', 'orgtrack', 'pmc', 'proteinclusters', 'pcassay', 'protfam', 'pccompound', 'pcsubstance', 'seqannot', 'snp', 'sra', 'taxonomy', 'biocollections', 'gtr']\n"
     ]
    }
   ],
   "source": [
    "# Get an access to NCBI via Entrez\n",
    "Entrez.email = \"sayakokodera@gmail.com\" \n",
    "handle = Entrez.einfo()\n",
    "rec = Entrez.read(handle)\n",
    "handle.close()\n",
    "print(rec.keys())\n",
    "print(rec['DbList']) # all available data base"
   ]
  },
  {
   "cell_type": "markdown",
   "id": "e905ea0d",
   "metadata": {},
   "source": [
    "### Task: find the **chloroquine resistance transporter (CRT)** gene (KM288867) \n",
    "* Info\n",
    "    * Goal = CRT gene present in Plasmodium falciparum (the parasite that causes malaria) \n",
    "    * database = nucleotide\n",
    "* Steps\n",
    "    * **close \"handle\" as soon as each step is complete!!**\n",
    "    * (1) Search the database with keywords (**Entrez.esearch**)\n",
    "    * (2) Download full records that are relevant for your task (**Entrez.efetch**)\n",
    "        * Be mindful about fetching: data volume may get easily intractable\n",
    "    * (3) Analyze the records; looking for the CRT gene (ID = KM288867)"
   ]
  },
  {
   "cell_type": "code",
   "execution_count": null,
   "id": "f9c50691",
   "metadata": {},
   "outputs": [],
   "source": [
    "# (1) Search the database\n",
    "handle = Entrez.esearch(db=\"nucleotide\", term='CRT[Gene Name] AND \"Plasmodium falciparum\"[Organism]', retmax=\"40\")\n",
    "rec_list = Entrez.read(handle)\n",
    "handle.close()"
   ]
  },
  {
   "cell_type": "code",
   "execution_count": null,
   "id": "9f87b224",
   "metadata": {},
   "outputs": [
    {
     "name": "stdout",
     "output_type": "stream",
     "text": [
      "3441\n",
      "40\n",
      "['2946626456', '2928401860', '2928401858', '2928401856', '2928401854', '2928401852', '2928401850', '2928401848', '2928401846', '2928401844', '2928401842', '2928401840', '2928401838', '2928401836', '2928401834', '2928401832', '2928401830', '2928401828', '2928401826', '2928401824', '2928401822', '2928401820', '2928401818', '2928401816', '2928401814', '2928401812', '2928401810', '2928401808', '2928401806', '2928401804', '2928401802', '2928401800', '2928401798', '2928401796', '2928401794', '2928401792', '2928401790', '2928401788', '2928401786', '2928401784']\n"
     ]
    }
   ],
   "source": [
    "print(rec_list['Count'])\n",
    "print(len(rec_list['IdList']))\n",
    "print(rec_list['IdList']) # IDs of the records (i.e. database entries)"
   ]
  },
  {
   "cell_type": "code",
   "execution_count": null,
   "id": "12b0e4ea",
   "metadata": {},
   "outputs": [],
   "source": [
    "# (2) Fetch the database\n",
    "handle = Entrez.efetch(db=\"nucleotide\", id=rec_list['IdList'], rettype=\"gb\")\n",
    "recs = list(SeqIO.parse(handle, 'gb')) # Now it is a list of SeqIO objects -> easy to deal with\n",
    "handle.close()"
   ]
  },
  {
   "cell_type": "code",
   "execution_count": 29,
   "id": "ab0b83d9",
   "metadata": {},
   "outputs": [
    {
     "data": {
      "text/plain": [
       "[SeqRecord(seq=Seq('GGTTCTTGTCTTGGTAAATGTGCTCATGTGTTTAAACTTATTTTTAAAGAGATT...TCC'), id='PV353992.1', name='PV353992', description='Plasmodium falciparum isolate MBC148 chloroquine resistance transporter (crt) gene, partial cds', dbxrefs=[]),\n",
       " SeqRecord(seq=Seq('TGTGCTCATGTGTTTAAACTTATTTTTAAAGAGATTAAGGATAATATTTTTATT...TTG'), id='PV172738.1', name='PV172738', description='Plasmodium falciparum isolate RO_75 chloroquine resistance transporter (crt) gene, partial cds', dbxrefs=[]),\n",
       " SeqRecord(seq=Seq('TGTGCTCATGTGTTTAAACTTATTTTTAAAGAGATTAAGGATAATATTTTTATT...TTG'), id='PV172737.1', name='PV172737', description='Plasmodium falciparum isolate RO_74 chloroquine resistance transporter (crt) gene, partial cds', dbxrefs=[]),\n",
       " SeqRecord(seq=Seq('TGTGCTCATGTGTTTAAACTTATTTTTAAAGAGATTAAGGATAATATTTTTATT...TTG'), id='PV172736.1', name='PV172736', description='Plasmodium falciparum isolate PA_73 chloroquine resistance transporter (crt) gene, partial cds', dbxrefs=[]),\n",
       " SeqRecord(seq=Seq('TGTGCTCATGTGTTTAAACTTATTTTTAAAGAGATTAAGGATAATATTTTTATT...TTG'), id='PV172735.1', name='PV172735', description='Plasmodium falciparum isolate PA_72 chloroquine resistance transporter (crt) gene, partial cds', dbxrefs=[])]"
      ]
     },
     "execution_count": 29,
     "metadata": {},
     "output_type": "execute_result"
    }
   ],
   "source": [
    "recs[:5]"
   ]
  },
  {
   "cell_type": "code",
   "execution_count": null,
   "id": "1cfb3793",
   "metadata": {},
   "outputs": [
    {
     "name": "stdout",
     "output_type": "stream",
     "text": [
      "PV172700\n",
      "Plasmodium falciparum isolate AC_37 chloroquine resistance transporter (crt) gene, partial cds\n"
     ]
    }
   ],
   "source": [
    "# (3) Analyze: find the CRT gene by iterating over the records\n",
    "for rec in recs:\n",
    "    if rec.name == 'KM288867': # try finding CRT gene in 40 records we fetched\n",
    "        break\n",
    "print(rec.name)\n",
    "print(rec.description)\n"
   ]
  },
  {
   "cell_type": "code",
   "execution_count": 38,
   "id": "3b469c92",
   "metadata": {},
   "outputs": [
    {
     "name": "stdout",
     "output_type": "stream",
     "text": [
      "TGTGCTCATGTGTTTAAACTTATTTTTAAAGAGATTAAGGATAATATTTTTATTTATATTTTAAGTATTATTTATTTAAGTGTATCTGTAATGAATACAATTTTTGCTAAAAGAACTTTAAACAAAATTGGTAACTATAGTTTTG\n",
      "145\n",
      "48\n"
     ]
    }
   ],
   "source": [
    "print(str(rec.seq))\n",
    "print(len(rec.seq))\n",
    "print(len(rec.seq)//3) # number of codons\n"
   ]
  },
  {
   "cell_type": "code",
   "execution_count": null,
   "id": "b1365b6f",
   "metadata": {},
   "outputs": [
    {
     "name": "stdout",
     "output_type": "stream",
     "text": [
      "KTIVTNFV*SSFSKNCIHYRYT*INNT*NINKNIILNLFKNKFKHMST\n"
     ]
    }
   ],
   "source": [
    "# Ensure there is no partial codon\n",
    "idx_trim = len(rec.seq) - (len(rec.seq) % 3)\n",
    "print(rec.seq[:idx_trim].reverse_complement().translate())"
   ]
  },
  {
   "cell_type": "code",
   "execution_count": null,
   "id": "d600c0d6",
   "metadata": {},
   "outputs": [],
   "source": []
  }
 ],
 "metadata": {
  "kernelspec": {
   "display_name": "protein_ligand",
   "language": "python",
   "name": "python3"
  },
  "language_info": {
   "codemirror_mode": {
    "name": "ipython",
    "version": 3
   },
   "file_extension": ".py",
   "mimetype": "text/x-python",
   "name": "python",
   "nbconvert_exporter": "python",
   "pygments_lexer": "ipython3",
   "version": "3.13.1"
  }
 },
 "nbformat": 4,
 "nbformat_minor": 5
}
