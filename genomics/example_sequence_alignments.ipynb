{
 "cells": [
  {
   "cell_type": "code",
   "execution_count": 1,
   "id": "6207ad00",
   "metadata": {},
   "outputs": [],
   "source": [
    "import numpy as np\n",
    "from Bio.Align import PairwiseAligner"
   ]
  },
  {
   "cell_type": "code",
   "execution_count": 2,
   "id": "cc9b51c0",
   "metadata": {},
   "outputs": [],
   "source": [
    "target = \"ACGTACGT\"\n",
    "query = \"ACGT\""
   ]
  },
  {
   "cell_type": "code",
   "execution_count": 10,
   "id": "50fc3800",
   "metadata": {},
   "outputs": [
    {
     "name": "stdout",
     "output_type": "stream",
     "text": [
      "Number of alignments found:  2\n",
      "Score = -4.0:\n",
      "target            0 ACCCCCGT 8\n",
      "                  0 |----||- 8\n",
      "query             0 A----CG- 3\n",
      "\n",
      "Score = -4.0:\n",
      "target            0 ACCCCCGT 8\n",
      "                  0 ||----|- 8\n",
      "query             0 AC----G- 3\n",
      "\n"
     ]
    }
   ],
   "source": [
    "aligner = PairwiseAligner()\n",
    "aligner.mode = 'global'\n",
    "aligner.match_score = 1\n",
    "aligner.mismatch_score = -1\n",
    "aligner.open_gap_score = -2\n",
    "aligner.extend_gap_score = -1\n",
    "\n",
    "# Sanity check\n",
    "alignments = aligner.align(target, query)\n",
    "print(\"Number of alignments found: \", len(alignments))\n",
    "\n",
    "for alignment in alignments:\n",
    "    print(\"Score = %.1f:\" % alignment.score)\n",
    "    print(alignment)"
   ]
  },
  {
   "cell_type": "code",
   "execution_count": 4,
   "id": "23a5af3e",
   "metadata": {},
   "outputs": [
    {
     "name": "stdout",
     "output_type": "stream",
     "text": [
      "Number of alignments found:  2\n",
      "Score = 9.30685:\n",
      "target            0 ACCCCCGT 8\n",
      "                  0 |----||- 8\n",
      "query             0 A----CG- 3\n",
      "\n",
      "Score = 9.30685:\n",
      "target            0 ACCCCCGT 8\n",
      "                  0 ||----|- 8\n",
      "query             0 AC----G- 3\n",
      "\n"
     ]
    }
   ],
   "source": [
    "# Using a custom gap penality function\n",
    "def gap_function(x, y):  # x is gap position in seq, y is gap length\n",
    "     if y == 0:  # No gap\n",
    "        return 0\n",
    "     elif y == 1:  # Gap open penalty\n",
    "        return -2\n",
    "     return - (2 + y/4.0 + np.log(y)/2.0)\n",
    "\n",
    "target = \"ACCCCCGT\"\n",
    "query = \"ACG\"\n",
    "\n",
    "aligner = PairwiseAligner()\n",
    "aligner.mode = 'global'\n",
    "aligner.match_score = 5\n",
    "aligner.mismatch_score = -4\n",
    "\n",
    "aligner.target_gap_score = gap_function\n",
    "aligner.query_gap_score = gap_function\n",
    "\n",
    "alignments = aligner.align(target, query) \n",
    "print(\"Number of alignments found: \", len(alignments))\n",
    "\n",
    "for alignment in alignments:\n",
    "    print(\"Score = %.5f:\" % alignment.score)\n",
    "    print(alignment)"
   ]
  },
  {
   "cell_type": "markdown",
   "id": "0e2a5c1d",
   "metadata": {},
   "source": [
    "## Protein anlignment \n",
    "* KEVLA = Lysine - Glumatic acid - Valine - Lucine - Alanine"
   ]
  },
  {
   "cell_type": "code",
   "execution_count": 5,
   "id": "ec9421be",
   "metadata": {},
   "outputs": [
    {
     "name": "stdout",
     "output_type": "stream",
     "text": [
      "Score = 13.0:\n",
      "target            0 KEVLA 5\n",
      "                  0 -|||- 5\n",
      "query             0 -EVL- 3\n",
      "\n"
     ]
    }
   ],
   "source": [
    "from Bio.Align import substitution_matrices\n",
    "aligner = PairwiseAligner()\n",
    "aligner.substitution_matrix = substitution_matrices.load(\"BLOSUM62\") # this is a protien sequence alignment matrix\n",
    "aligner.mode = 'global'\n",
    "\n",
    "for alignment in aligner.align(\"KEVLA\", \"EVL\"):\n",
    "    print(\"Score = %.1f:\" % alignment.score)\n",
    "    print(alignment)"
   ]
  },
  {
   "cell_type": "code",
   "execution_count": null,
   "id": "305d2665",
   "metadata": {},
   "outputs": [],
   "source": []
  }
 ],
 "metadata": {
  "kernelspec": {
   "display_name": "protein_ligand",
   "language": "python",
   "name": "python3"
  },
  "language_info": {
   "codemirror_mode": {
    "name": "ipython",
    "version": 3
   },
   "file_extension": ".py",
   "mimetype": "text/x-python",
   "name": "python",
   "nbconvert_exporter": "python",
   "pygments_lexer": "ipython3",
   "version": "3.13.1"
  }
 },
 "nbformat": 4,
 "nbformat_minor": 5
}
